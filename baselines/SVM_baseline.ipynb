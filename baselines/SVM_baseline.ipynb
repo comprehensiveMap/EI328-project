{
 "cells": [
  {
   "cell_type": "code",
   "execution_count": 21,
   "metadata": {},
   "outputs": [],
   "source": [
    "from scipy.io import loadmat\n",
    "import matplotlib.pyplot as plt\n",
    "from sklearn.preprocessing import StandardScaler, MaxAbsScaler, MinMaxScaler\n",
    "import numpy as np\n",
    "from sklearn.decomposition import PCA\n",
    "from sklearn import svm\n",
    "import warnings\n",
    "warnings.filterwarnings('ignore')"
   ]
  },
  {
   "cell_type": "code",
   "execution_count": 22,
   "metadata": {},
   "outputs": [],
   "source": [
    "train_data_list = []\n",
    "train_label_list = []\n",
    "test_data_list = []\n",
    "test_label_list = []\n",
    "\n",
    "scaler = StandardScaler()\n",
    "# scaler = MinMaxScaler()\n",
    "\n",
    "for i in range(1, 11):\n",
    "    mat_data = loadmat(\"data/train/\"+str(i)+\".mat\")\n",
    "    train_data_list.append(scaler.fit_transform(mat_data['de_feature']))\n",
    "    train_label_list.append(mat_data['label'])\n",
    "\n",
    "for i in range(11, 14):\n",
    "    mat_data = loadmat(\"data/test/\"+str(i)+\".mat\")\n",
    "    test_data_list.append(scaler.fit_transform(mat_data['de_feature']))\n",
    "    test_label_list.append(mat_data['label'])\n",
    "\n",
    "train_datas = np.concatenate(train_data_list)\n",
    "train_labels = np.concatenate(train_label_list)\n",
    "test_datas = np.concatenate(test_data_list)\n",
    "test_labels = np.concatenate(test_label_list)\n",
    "\n",
    "pca = PCA(n_components=2)\n",
    "pca_train_datas = pca.fit_transform(train_datas)\n",
    "pca_test_datas = pca.fit_transform(test_datas)\n",
    "pca_train_data_list = [pca.fit_transform(x) for x in train_data_list]\n",
    "pca_test_data_list = [pca.fit_transform(x) for x in test_data_list]\n"
   ]
  },
  {
   "cell_type": "code",
   "execution_count": 23,
   "metadata": {},
   "outputs": [],
   "source": [
    "def draw_pca(data: np.array, label: np.array, name=None, size=0.5):\n",
    "    label = label.squeeze()\n",
    "    assert len(data) == len(label)\n",
    "    assert data.shape[1] == 2\n",
    "    optioned = [False]*4\n",
    "    for idx in range(len(data)):\n",
    "        point = data[idx]\n",
    "        if label[idx] == 0:\n",
    "            if not optioned[0]:\n",
    "                plt.scatter(point[0], point[1], c='#3B77A8', label='negtive', s=size)\n",
    "                optioned[0] = True\n",
    "            else:\n",
    "                plt.scatter(point[0], point[1], c='#3B77A8', s=size)\n",
    "        elif label[idx] == 1:\n",
    "            if not optioned[1]:\n",
    "                plt.scatter(point[0], point[1], c='#FFDB50', label='neutral', s=size)\n",
    "                optioned[1] = True\n",
    "            else:\n",
    "                plt.scatter(point[0], point[1], c='#FFDB50', s=size)\n",
    "        elif label[idx] == 2:\n",
    "            if not optioned[2]:\n",
    "                plt.scatter(point[0], point[1], c='#F37726', label='positive', s=size)\n",
    "                optioned[2] = True\n",
    "            else:\n",
    "                plt.scatter(point[0], point[1], c='#F37726', s=size)\n",
    "        elif label[idx] == 3:\n",
    "            if not optioned[3]:\n",
    "                plt.scatter(point[0], point[1], c='red', label='fear', s=size)\n",
    "                optioned[3] = True\n",
    "            else:\n",
    "                plt.scatter(point[0], point[1], c='red', s=size)\n",
    "        \n",
    "    plt.legend()\n",
    "#     if name is not None:\n",
    "#         plt.savefig(\"D:\\\\TC文件夹\\\\1_2019-2020第2学期\\\\工科创4J\\\\hw02\\\\LaTex\\\\\" + name + \".png\", dpi=250)\n",
    "    plt.show()"
   ]
  },
  {
   "cell_type": "code",
   "execution_count": 24,
   "metadata": {},
   "outputs": [],
   "source": [
    "def compute_acc(pred, labels=test_labels):\n",
    "    return (pred == labels.squeeze()).sum()/len(pred)"
   ]
  },
  {
   "cell_type": "code",
   "execution_count": 25,
   "metadata": {},
   "outputs": [
    {
     "data": {
      "text/plain": [
       "SVC(C=10, break_ties=False, cache_size=200, class_weight=None, coef0=0.0,\n",
       "    decision_function_shape='ovo', degree=3, gamma='scale', kernel='rbf',\n",
       "    max_iter=300000, probability=True, random_state=None, shrinking=True,\n",
       "    tol=0.001, verbose=False)"
      ]
     },
     "execution_count": 25,
     "metadata": {},
     "output_type": "execute_result"
    }
   ],
   "source": [
    "mysvm = svm.SVC(gamma='scale', C=10, decision_function_shape='ovo', max_iter=300000, probability=True)\n",
    "mysvm.fit(train_datas, train_labels)"
   ]
  },
  {
   "cell_type": "code",
   "execution_count": 26,
   "metadata": {},
   "outputs": [
    {
     "name": "stdout",
     "output_type": "stream",
     "text": [
      "Person 1, acc: 0.46769\n",
      "Person 2, acc: 0.55699\n",
      "Person 3, acc: 0.38190\n"
     ]
    }
   ],
   "source": [
    "for i in range(3):\n",
    "    pred = mysvm.predict(test_data_list[i])\n",
    "    acc = compute_acc(pred, test_label_list[i])\n",
    "    print(\"Person %d, acc: %.5f\" %(i+1, acc))"
   ]
  },
  {
   "cell_type": "code",
   "execution_count": 27,
   "metadata": {},
   "outputs": [
    {
     "name": "stdout",
     "output_type": "stream",
     "text": [
      "Average acc: 0.46886\n"
     ]
    }
   ],
   "source": [
    "pred = mysvm.predict(test_datas)\n",
    "print(\"Average acc: %.5f\" % (compute_acc(pred),))"
   ]
  },
  {
   "cell_type": "code",
   "execution_count": null,
   "metadata": {},
   "outputs": [],
   "source": []
  }
 ],
 "metadata": {
  "kernelspec": {
   "display_name": "Python [conda env:tensorflow_gpu] *",
   "language": "python",
   "name": "conda-env-tensorflow_gpu-py"
  },
  "language_info": {
   "codemirror_mode": {
    "name": "ipython",
    "version": 3
   },
   "file_extension": ".py",
   "mimetype": "text/x-python",
   "name": "python",
   "nbconvert_exporter": "python",
   "pygments_lexer": "ipython3",
   "version": "3.6.9"
  }
 },
 "nbformat": 4,
 "nbformat_minor": 2
}
